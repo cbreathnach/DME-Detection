{
 "cells": [
  {
   "cell_type": "code",
   "execution_count": null,
   "id": "b5134313",
   "metadata": {},
   "outputs": [],
   "source": [
    "import matplotlib.pyplot as plt\n",
    "import numpy as np\n",
    "import os\n",
    "import PIL\n",
    "import tensorflow as tf\n",
    "import splitfolders\n",
    "import sys\n",
    "import pathlib\n",
    "import pandas as pd\n",
    "import pickle\n",
    "\n",
    "from tensorflow import keras\n",
    "from tensorflow.keras import layers\n",
    "from tensorflow.keras.models import Sequential\n",
    "from tensorflow.keras.optimizers import SGD\n",
    "import tensorflow_datasets as tfds\n",
    "\n",
    "from sklearn.metrics import roc_curve, auc, roc_auc_score\n",
    "from sklearn.metrics import classification_report, confusion_matrix, ConfusionMatrixDisplay\n",
    "from sklearn.model_selection import KFold, StratifiedKFold\n",
    "\n",
    "from helper_functions import print_sens_spec_3class, print_sens_spec_2class"
   ]
  },
  {
   "cell_type": "code",
   "execution_count": null,
   "id": "6db5f461",
   "metadata": {},
   "outputs": [],
   "source": [
    "from IPython.display import display, HTML\n",
    "display(HTML(\"<style>.container { width:95% !important; }</style>\"))"
   ]
  },
  {
   "cell_type": "code",
   "execution_count": null,
   "id": "132b4323",
   "metadata": {},
   "outputs": [],
   "source": [
    "# Define parameters\n",
    "batch_size = 32\n",
    "img_height = 256\n",
    "img_width = 256\n",
    "num_splits = 5\n",
    "binary_threshold = 0.5\n",
    "epochs = 35\n",
    "learning_rate=0.001\n",
    "\n",
    "class_names=['0-Normal','1-Non-CI-DME','2-CI-DME']\n",
    "num_classes = len(class_names)"
   ]
  },
  {
   "cell_type": "markdown",
   "id": "7756927e",
   "metadata": {},
   "source": [
    "## Read Data and Train Model"
   ]
  },
  {
   "cell_type": "code",
   "execution_count": null,
   "id": "984e095b",
   "metadata": {},
   "outputs": [],
   "source": [
    "trainval_dir = \"Data-New/Primary-3-class-train-val\"\n",
    "\n",
    "trainval_dir = pathlib.Path(trainval_dir)\n",
    "\n",
    "trainval_count = len(list(trainval_dir.glob('*/*.png')))\n",
    "print(\"Training & Val Count: \" + str(trainval_count))"
   ]
  },
  {
   "cell_type": "code",
   "execution_count": null,
   "id": "32c88b68",
   "metadata": {},
   "outputs": [],
   "source": [
    "trainval_ds = tf.keras.utils.image_dataset_from_directory(\n",
    "    trainval_dir,\n",
    "    seed=124,\n",
    "    color_mode='grayscale',\n",
    "    image_size=(img_height, img_width),\n",
    "    batch_size=batch_size,\n",
    "    label_mode='int',\n",
    "    class_names=class_names\n",
    ")"
   ]
  },
  {
   "cell_type": "code",
   "execution_count": null,
   "id": "aeb114a2",
   "metadata": {},
   "outputs": [],
   "source": [
    "# Convert dataset to numpy for use with kfold\n",
    "# Convert datasets into Numpy - can process for kfold\n",
    "trainval_ds_ub = trainval_ds.unbatch()\n",
    "trainval_ds_np = tfds.as_numpy(trainval_ds_ub)\n",
    "\n",
    "trainval_data = []\n",
    "trainval_labels = []\n",
    "\n",
    "for entry in trainval_ds_np:\n",
    "    trainval_data.append(entry[0])\n",
    "    trainval_labels.append(entry[1])\n",
    "    \n",
    "trainval_data_np = np.array(trainval_data)\n",
    "trainval_labels_np = np.array(trainval_labels)\n",
    "\n",
    "print(trainval_data_np.shape)\n",
    "print(trainval_labels_np.shape)"
   ]
  },
  {
   "cell_type": "code",
   "execution_count": null,
   "id": "0c2eda56",
   "metadata": {},
   "outputs": [],
   "source": [
    "labelscount = [0, 0, 0]\n",
    "for i in trainval_labels_np:\n",
    "    if i == 0: \n",
    "        labelscount[0] = labelscount[0]+1\n",
    "    if i == 1: \n",
    "        labelscount[1] = labelscount[1]+1\n",
    "    if i == 2: \n",
    "        labelscount[2] = labelscount[2]+1\n",
    "        "
   ]
  },
  {
   "cell_type": "code",
   "execution_count": null,
   "id": "e8292292",
   "metadata": {},
   "outputs": [],
   "source": [
    "# Define kfold split\n",
    "kfold = StratifiedKFold(n_splits=num_splits, shuffle=True)"
   ]
  },
  {
   "cell_type": "code",
   "execution_count": null,
   "id": "54e80bd1",
   "metadata": {},
   "outputs": [],
   "source": [
    "# Data augmentation (if required)\n",
    "with tf.device('/CPU:0'):\n",
    "\n",
    "    data_augmentation = keras.Sequential(\n",
    "      [\n",
    "        layers.RandomFlip(\"horizontal\",input_shape=(img_height,img_width,1),seed=136),\n",
    "        layers.RandomRotation(0.1, seed=175),\n",
    "        layers.RandomZoom(0.1, seed=181),\n",
    "      ]\n",
    "    )"
   ]
  },
  {
   "cell_type": "code",
   "execution_count": null,
   "id": "72c53eb9",
   "metadata": {},
   "outputs": [],
   "source": [
    "# Define Model\n",
    "def getModel():\n",
    "    \n",
    "    model = Sequential([\n",
    "        data_augmentation,\n",
    "        layers.Rescaling(1./255, input_shape=(img_height, img_width, 1)),\n",
    "        layers.Conv2D(16, 3, padding='same', activation='relu'),\n",
    "        layers.MaxPooling2D(),\n",
    "        layers.Conv2D(32, 3, padding='same', activation='relu'),\n",
    "        layers.MaxPooling2D(),\n",
    "        layers.Conv2D(64, 3, padding='same', activation='relu'),\n",
    "        layers.MaxPooling2D(),\n",
    "        layers.Conv2D(128, 3, padding='same', activation='relu'),\n",
    "        layers.MaxPooling2D(),\n",
    "        layers.Conv2D(256, 3, padding='same', activation='relu'),\n",
    "        layers.BatchNormalization(),\n",
    "        layers.MaxPooling2D(),\n",
    "        layers.Dense(256, activation='relu'),\n",
    "        layers.Dropout(0.2),\n",
    "        layers.Flatten(),\n",
    "        layers.Dense(128, activation='relu'),\n",
    "        layers.Dense(num_classes, activation='softmax')\n",
    "    ])\n",
    "    \n",
    "    return model"
   ]
  },
  {
   "cell_type": "code",
   "execution_count": null,
   "id": "2c1d81ab",
   "metadata": {},
   "outputs": [],
   "source": [
    "# Comvert labels to categorical for use in model\n",
    "trainval_labels_categorical = tf.keras.utils.to_categorical(trainval_labels_np, num_classes=3)"
   ]
  },
  {
   "cell_type": "code",
   "execution_count": null,
   "id": "f36dcc76",
   "metadata": {},
   "outputs": [],
   "source": [
    "%%time\n",
    "tf.keras.backend.clear_session()\n",
    "\n",
    "loss_values = []\n",
    "acc_scores = []\n",
    "auc_scores = []\n",
    "prec_scores = []\n",
    "recall_scores = []\n",
    "\n",
    "histories = []\n",
    "models = []\n",
    "\n",
    "val_predictions_values_cv = []\n",
    "val_predictions_cv = []\n",
    "val_labels_values_cv = []\n",
    "val_labels_cv = []\n",
    "\n",
    "i = 1\n",
    "\n",
    "# Comvert labels to categorical for use in model as per appraoch used previously\n",
    "trainval_labels_categorical = tf.keras.utils.to_categorical(trainval_labels_np, num_classes=3)\n",
    "\n",
    "for train_index, val_index in kfold.split(trainval_data_np, trainval_labels_np):\n",
    "    \n",
    "    tf.keras.backend.clear_session()\n",
    "\n",
    "    print(\"\\n#### This is split: \" + str(i) + \" ####\")\n",
    "    \n",
    "    train_data_fold, val_data_fold = trainval_data_np[train_index], trainval_data_np[val_index]\n",
    "    train_labels_fold, val_labels_fold = trainval_labels_categorical[train_index], trainval_labels_categorical[val_index]\n",
    "    \n",
    "    print(\"Training Entries: \" + str(train_data_fold.shape[0]))\n",
    "    print(\"Validation Entries: \" + str(val_data_fold.shape[0]))\n",
    "    print(\"\\n\")\n",
    "    \n",
    "    model = getModel()\n",
    "    \n",
    "    opt = keras.optimizers.Adam(learning_rate=learning_rate)\n",
    "    \n",
    "    model.compile(optimizer=opt,\n",
    "              loss=tf.keras.losses.CategoricalCrossentropy(),\n",
    "              metrics=[tf.keras.metrics.CategoricalAccuracy(),\n",
    "                       tf.keras.metrics.AUC(),\n",
    "                       tf.keras.metrics.Precision(),\n",
    "                       tf.keras.metrics.Recall()])\n",
    "\n",
    "    history = model.fit(train_data_fold,train_labels_fold,\n",
    "                        epochs=epochs,\n",
    "                        batch_size = batch_size, \n",
    "                        validation_data = (val_data_fold, val_labels_fold))\n",
    "    \n",
    "    histories.append(history)\n",
    "\n",
    "    # Could also take score from val history results\n",
    "    scores = model.evaluate(val_data_fold, val_labels_fold)\n",
    "    \n",
    "    v_predictions_values = model.predict(val_data_fold)\n",
    "    v_predictions = np.argmax(v_predictions_values, axis=1)\n",
    "    v_labels_values = val_labels_fold\n",
    "    v_labels = np.argmax(v_labels_values, axis=1)\n",
    "    \n",
    "    val_predictions_values_cv.append(v_predictions_values)\n",
    "    val_predictions_cv.append(v_predictions)\n",
    "    val_labels_values_cv.append(v_labels_values)\n",
    "    val_labels_cv.append(v_labels)\n",
    "    \n",
    "\n",
    "    print(\"%s: %.2f%% \\n\" % (model.metrics_names[1], scores[1]*100))\n",
    "\n",
    "    loss_values.append(scores[0])\n",
    "    acc_scores.append(scores[1])\n",
    "    auc_scores.append(scores[2])\n",
    "    prec_scores.append(scores[3])\n",
    "    recall_scores.append(scores[4])\n",
    "    i += 1\n",
    "\n",
    "print(\"\\n#### OVERALL SUMMARY - FROM EVALUATION SETS ####\")\n",
    "print(\"Average final loss: %.2f (+/- %.2f)\" % (np.mean(loss_values), np.std(loss_values)))\n",
    "print(\"Average accuracy: %.2f%% (+/- %.2f%%)\" % (np.mean(acc_scores)*100, np.std(acc_scores)*100))\n",
    "print(\"Average final AUC: %.2f (+/- %.2f)\" % (np.mean(auc_scores), np.std(auc_scores)))\n",
    "print(\"Average precision: %.2f%% (+/- %.2f%%)\" % (np.mean(prec_scores)*100, np.std(prec_scores)*100))\n",
    "print(\"Average recall: %.2f%% (+/- %.2f%%)\" % (np.mean(recall_scores)*100, np.std(recall_scores)*100))"
   ]
  },
  {
   "cell_type": "code",
   "execution_count": null,
   "id": "6764c336",
   "metadata": {
    "scrolled": false
   },
   "outputs": [],
   "source": [
    "# Record to check epoch for minimum loss and max accuracy\n",
    "loss_val_values = np.zeros(epochs)\n",
    "acc_val_values = np.zeros(epochs)\n",
    "\n",
    "for history in histories:\n",
    "\n",
    "    # Training and Validation Accuracy and Loss\n",
    "    train_acc = history.history['categorical_accuracy']\n",
    "    val_acc = history.history['val_categorical_accuracy']\n",
    "    \n",
    "    acc_val_values = np.add(acc_val_values, val_acc)\n",
    "\n",
    "    train_loss = history.history['loss']\n",
    "    val_loss = history.history['val_loss']\n",
    "    \n",
    "    loss_val_values = np.add(loss_val_values, val_loss)\n",
    "\n",
    "    train_prec = history.history['precision']\n",
    "    val_prec = history.history['val_precision']\n",
    "\n",
    "    train_recall = history.history['recall']\n",
    "    val_recall = history.history['val_recall']\n",
    "\n",
    "    train_auc = history.history['auc']\n",
    "    val_auc = history.history['val_auc']\n",
    "\n",
    "    epochs_range = range(epochs)\n",
    "\n",
    "    plt.figure(figsize=(20, 8))\n",
    "    plt.subplot(1, 5, 1)\n",
    "    plt.plot(train_acc, label='Training Accuracy')\n",
    "    plt.plot(val_acc, label='Validation Accuracy')\n",
    "    plt.legend(loc='lower right')\n",
    "    plt.title('Training and Validation Accuracy')\n",
    "\n",
    "    plt.subplot(1, 5, 2)\n",
    "    plt.plot(train_loss, label='Training Loss')\n",
    "    plt.plot(val_loss, label='Validation Loss')\n",
    "    plt.legend(loc='upper right')\n",
    "    plt.title('Training and Validation Loss')\n",
    "\n",
    "    plt.subplot(1, 5, 3)\n",
    "    plt.plot(train_prec, label='Precision')\n",
    "    plt.plot(val_prec, label='Validation Precision')\n",
    "    plt.legend(loc='lower right')\n",
    "    plt.title('Training and Validation Precision')\n",
    "\n",
    "    plt.subplot(1, 5, 4)\n",
    "    plt.plot(train_recall, label='Recall')\n",
    "    plt.plot(val_recall, label='Validation Recall')\n",
    "    plt.legend(loc='lower right')\n",
    "    plt.title('Training and Validation Recall')\n",
    "\n",
    "    plt.subplot(1, 5, 5)\n",
    "    plt.plot(train_auc, label='AUC')\n",
    "    plt.plot(val_auc, label='Validation AUC')\n",
    "    plt.legend(loc='lower right')\n",
    "    plt.title('Training and Validation AUC')\n",
    "\n",
    "    plt.show()"
   ]
  },
  {
   "cell_type": "code",
   "execution_count": null,
   "id": "03e5aa56",
   "metadata": {},
   "outputs": [],
   "source": [
    "avg_loss_val_values = loss_val_values/num_splits\n",
    "min_avg_loss = min(avg_loss_val_values)\n",
    "min_loss_epoch = (np.argmin(avg_loss_val_values) + 1)\n",
    "\n",
    "print(\"Average minimum loss: \" + str(min_avg_loss))\n",
    "print(\"Epoch number for min loss: \" + str(min_loss_epoch))\n",
    "\n",
    "epochs_plot = range(1,epochs+1)\n",
    "\n",
    "plt.figure()\n",
    "plt.plot(epochs_plot,avg_loss_val_values,)\n",
    "plt.xlabel('Epoch')\n",
    "plt.ylabel('Avg Loss')\n",
    "plt.title('Loss over epochs')"
   ]
  },
  {
   "cell_type": "code",
   "execution_count": null,
   "id": "adfefa84",
   "metadata": {},
   "outputs": [],
   "source": [
    "avg_acc_val_values = acc_val_values/num_splits\n",
    "max_avg_acc = max(avg_acc_val_values)\n",
    "max_acc_epoch = (np.argmax(avg_acc_val_values) + 1)\n",
    "\n",
    "print(\"Average maximum accuracy: \" + str(max_avg_acc))\n",
    "print(\"Epoch number for max acc: \" + str(max_acc_epoch))\n",
    "\n",
    "epochs_plot = range(1,epochs+1)\n",
    "\n",
    "plt.figure()\n",
    "plt.plot(epochs_plot,avg_acc_val_values,)\n",
    "plt.xlabel('Epoch')\n",
    "plt.ylabel('Avg Accuracy')\n",
    "plt.title('Accuracy over epochs')"
   ]
  },
  {
   "cell_type": "markdown",
   "id": "b170be2e",
   "metadata": {},
   "source": [
    "## Metrics on the Cross Validation Sets"
   ]
  },
  {
   "cell_type": "code",
   "execution_count": null,
   "id": "9c8f77c0",
   "metadata": {
    "scrolled": false
   },
   "outputs": [],
   "source": [
    "for i in range(num_splits):\n",
    "\n",
    "    val_labels = val_labels_cv[i]\n",
    "    val_labels_values = val_labels_values_cv[i]\n",
    "    val_predictions = val_predictions_cv[i]\n",
    "    val_predictions_values = val_predictions_values_cv[i]\n",
    "    \n",
    "    print(\"\\n### Results for split number: \" + str(i+1) + \"\\n\")\n",
    "\n",
    "    print(classification_report(val_labels, val_predictions, target_names=['M0','M1','M2']))\n",
    "\n",
    "    cm = confusion_matrix(val_labels, val_predictions, labels=[0,1,2])\n",
    "    disp = ConfusionMatrixDisplay(confusion_matrix=cm,display_labels=['M0','M1','M2'])\n",
    "    disp.plot(cmap=plt.cm.Blues)\n",
    "    \n",
    "    print_sens_spec_3class(cm)\n",
    "    \n",
    "    fpr_val = dict()\n",
    "    tpr_val = dict()\n",
    "    roc_auc_val = dict()\n",
    "\n",
    "    plt.figure()\n",
    "\n",
    "    for i in range(num_classes):\n",
    "        fpr_val[i], tpr_val[i], _ = roc_curve(val_labels_values[:, i], val_predictions_values[:, i])\n",
    "        roc_auc_val[i] = auc(fpr_val[i], tpr_val[i])\n",
    "        plt.plot(fpr_val[i], tpr_val[i], label='ROC curve of class {0} (area = {1:0.2f})'.format(i, roc_auc_val[i]))\n",
    "\n",
    "\n",
    "    plt.xlabel('False Positive Rate')\n",
    "    plt.ylabel('True Positive Rate')\n",
    "    plt.title('Receiver operating characteristic - Validation Data')\n",
    "    plt.legend(loc=\"lower right\")\n",
    "    plt.show() \n",
    "    "
   ]
  },
  {
   "cell_type": "markdown",
   "id": "20c417a3",
   "metadata": {},
   "source": [
    "## Retrain the dataset on all of the data"
   ]
  },
  {
   "cell_type": "code",
   "execution_count": null,
   "id": "aa11e0c7",
   "metadata": {},
   "outputs": [],
   "source": [
    "trainval_ds = tf.keras.utils.image_dataset_from_directory(\n",
    "    trainval_dir,\n",
    "    seed=124,\n",
    "    color_mode='grayscale',\n",
    "    image_size=(img_height, img_width),\n",
    "    batch_size=batch_size,\n",
    "    label_mode='categorical',\n",
    "    class_names=class_names\n",
    ")"
   ]
  },
  {
   "cell_type": "code",
   "execution_count": null,
   "id": "f948a862",
   "metadata": {},
   "outputs": [],
   "source": [
    "AUTOTUNE = tf.data.AUTOTUNE\n",
    "trainval_ds_p = trainval_ds.cache().shuffle(1000).prefetch(buffer_size=AUTOTUNE)"
   ]
  },
  {
   "cell_type": "code",
   "execution_count": null,
   "id": "bc6e34f6",
   "metadata": {
    "scrolled": true
   },
   "outputs": [],
   "source": [
    "tf.keras.backend.clear_session()\n",
    "\n",
    "full_model = getModel()\n",
    "    \n",
    "opt = keras.optimizers.Adam(learning_rate=0.001)\n",
    "\n",
    "full_model.compile(optimizer=opt,\n",
    "          loss=tf.keras.losses.CategoricalCrossentropy(),\n",
    "          metrics=[tf.keras.metrics.CategoricalAccuracy(),\n",
    "                   tf.keras.metrics.AUC(),\n",
    "                   tf.keras.metrics.Precision(),\n",
    "                   tf.keras.metrics.Recall()])\n",
    "\n",
    "history = full_model.fit(trainval_ds_p,\n",
    "                         epochs=epochs,\n",
    "                         batch_size = batch_size)"
   ]
  },
  {
   "cell_type": "code",
   "execution_count": null,
   "id": "f719fac1",
   "metadata": {},
   "outputs": [],
   "source": [
    "# Save the model\n",
    "# full_model.save('Models/DME-classification-model-centre.h5')"
   ]
  },
  {
   "cell_type": "code",
   "execution_count": null,
   "id": "ad3a11f6",
   "metadata": {},
   "outputs": [],
   "source": [
    "# Load the model \n",
    "# full_model = keras.models.load_model(\"Saved_Models/model_name.h5\")\n",
    "\n",
    "full_model = keras.models.load_model(\"Models/DME-classification-model-centre.h5\")"
   ]
  },
  {
   "cell_type": "code",
   "execution_count": null,
   "id": "b742a15b",
   "metadata": {},
   "outputs": [],
   "source": [
    "full_model.summary()"
   ]
  },
  {
   "cell_type": "markdown",
   "id": "8d15f919",
   "metadata": {},
   "source": [
    "## Check Test Dataset - First Ophthalmologist"
   ]
  },
  {
   "cell_type": "code",
   "execution_count": null,
   "id": "16459f4b",
   "metadata": {},
   "outputs": [],
   "source": [
    "test_dir_first = \"Data-New/Test-3-class-1st-ophth-adjust\"\n",
    "\n",
    "test_ds_first = tf.keras.utils.image_dataset_from_directory(\n",
    "    test_dir_first,\n",
    "    shuffle=False,\n",
    "    color_mode='grayscale',\n",
    "    image_size=(img_height, img_width),\n",
    "    batch_size=batch_size,\n",
    "    label_mode='categorical',\n",
    "    class_names=class_names\n",
    ")"
   ]
  },
  {
   "cell_type": "code",
   "execution_count": null,
   "id": "faa2b979",
   "metadata": {},
   "outputs": [],
   "source": [
    "full_model.evaluate(test_ds_first, batch_size=batch_size)"
   ]
  },
  {
   "cell_type": "code",
   "execution_count": null,
   "id": "1e40968a",
   "metadata": {},
   "outputs": [],
   "source": [
    "# Get predictions and get evaluation\n",
    "test_predictions_values_first = full_model.predict(test_ds_first)\n",
    "test_predictions_first = np.argmax(test_predictions_values_first, axis=1)\n",
    "test_labels_values_first = np.concatenate(list(test_ds_first.map(lambda x, y:y)))\n",
    "test_labels_first = np.argmax(test_labels_values_first, axis=1)\n",
    "\n",
    "print(classification_report(test_labels_first, test_predictions_first, target_names=class_names))"
   ]
  },
  {
   "cell_type": "code",
   "execution_count": null,
   "id": "527bd51a",
   "metadata": {},
   "outputs": [],
   "source": [
    "disp_labels = ['NORMAL', 'NCI-DME', 'CI-DME']"
   ]
  },
  {
   "cell_type": "code",
   "execution_count": null,
   "id": "15a0775b",
   "metadata": {},
   "outputs": [],
   "source": [
    "cm_first = confusion_matrix(test_labels_first, test_predictions_first, labels=[0,1,2])\n",
    "disp = ConfusionMatrixDisplay(confusion_matrix=cm_first,display_labels=disp_labels)\n",
    "\n",
    "disp.plot(cmap=plt.cm.Blues)\n",
    "disp.ax_.set_title('1st Ophthalmologist')"
   ]
  },
  {
   "cell_type": "code",
   "execution_count": null,
   "id": "01c8cb25",
   "metadata": {},
   "outputs": [],
   "source": [
    "disp.figure_.savefig('Figures/cm-3class-test-first-ophth.pdf', bbox_inches = 'tight')"
   ]
  },
  {
   "cell_type": "code",
   "execution_count": null,
   "id": "b65888aa",
   "metadata": {},
   "outputs": [],
   "source": [
    "print_sens_spec_3class(cm_first)"
   ]
  },
  {
   "cell_type": "code",
   "execution_count": null,
   "id": "00f41bfa",
   "metadata": {},
   "outputs": [],
   "source": [
    "# Examine predictions for the validation data ~ print percentages for each entry and consider effect of model\n",
    "test_filenames_first = [l[-10:-4] for l in test_ds_first.file_paths]"
   ]
  },
  {
   "cell_type": "code",
   "execution_count": null,
   "id": "4067dac1",
   "metadata": {},
   "outputs": [],
   "source": [
    "df_test_first = pd.DataFrame(test_filenames_first, columns=['Filename'])\n",
    "df_test_first['NORMAL-Prob'] = test_predictions_values_first[:,0]\n",
    "df_test_first['NCI-DME-Prob'] = test_predictions_values_first[:,1]\n",
    "df_test_first['CI-DME-Prob'] = test_predictions_values_first[:,2]\n",
    "df_test_first['Predicted'] = test_predictions_first\n",
    "df_test_first['Actual'] = test_labels_first\n",
    "df_test_first['NORMAL-Label'] = test_labels_values_first[:,0]\n",
    "df_test_first['NCI-DME-Label'] = test_labels_values_first[:,1]\n",
    "df_test_first['CI-DME-Label'] = test_labels_values_first[:,2]\n",
    "class_codes = {0:'NORMAL', 1:'NCI-DME', 2:'CI-DME'}\n",
    "df_test_first['Predicted.name'] = df_test_first['Predicted'].map(class_codes)\n",
    "df_test_first['Actual.name'] = df_test_first['Actual'].map(class_codes)\n",
    "df_test_first['Correct'] = df_test_first['Predicted'] == df_test_first['Actual']"
   ]
  },
  {
   "cell_type": "code",
   "execution_count": null,
   "id": "c4d01e77",
   "metadata": {},
   "outputs": [],
   "source": [
    "pd.set_option(\"display.max_rows\", None)\n",
    "pd.options.display.float_format = '{:,.4f}'.format\n",
    "display(df_test_first)"
   ]
  },
  {
   "cell_type": "code",
   "execution_count": null,
   "id": "698ba204",
   "metadata": {},
   "outputs": [],
   "source": [
    "df_test_first.to_csv('predictions/predictions_classification_test_first.csv')"
   ]
  },
  {
   "cell_type": "code",
   "execution_count": null,
   "id": "10f4b988",
   "metadata": {},
   "outputs": [],
   "source": [
    "# Compute ROC curve and ROC area for each class\n",
    "fpr_test_first = dict()\n",
    "tpr_test_first = dict()\n",
    "roc_auc_test_first = dict()\n",
    "\n",
    "plt.figure()\n",
    "\n",
    "# for i in range(num_classes):\n",
    "    \n",
    "i=0\n",
    "fpr_test_first[i], tpr_test_first[i], _ = roc_curve(test_labels_values_first[:, i], test_predictions_values_first[:, i])\n",
    "roc_auc_test_first[i] = auc(fpr_test_first[i], tpr_test_first[i])\n",
    "plt.plot(fpr_test_first[i], tpr_test_first[i], label='ROC curve of NORMAL class (area = {1:0.2f})'.format(i, roc_auc_test_first[i]))\n",
    "\n",
    "i=1\n",
    "fpr_test_first[i], tpr_test_first[i], _ = roc_curve(test_labels_values_first[:, i], test_predictions_values_first[:, i])\n",
    "roc_auc_test_first[i] = auc(fpr_test_first[i], tpr_test_first[i])\n",
    "plt.plot(fpr_test_first[i], tpr_test_first[i], label='ROC curve of NCI-DME class (area = {1:0.2f})'.format(i, roc_auc_test_first[i]))\n",
    "\n",
    "i=2\n",
    "fpr_test_first[i], tpr_test_first[i], _ = roc_curve(test_labels_values_first[:, i], test_predictions_values_first[:, i])\n",
    "roc_auc_test_first[i] = auc(fpr_test_first[i], tpr_test_first[i])\n",
    "plt.plot(fpr_test_first[i], tpr_test_first[i], label='ROC curve of CI-DME class (area = {1:0.2f})'.format(i, roc_auc_test_first[i]))\n",
    "\n",
    "\n",
    "plt.xlabel('False Positive Rate')\n",
    "plt.ylabel('True Positive Rate')\n",
    "plt.title('1st Ophthalmologist')\n",
    "plt.legend(loc=\"lower right\")\n",
    "plt.savefig('figures/ROC-3class-test-first-ophth.pdf', bbox_inches = 'tight')\n",
    "plt.show() "
   ]
  },
  {
   "cell_type": "markdown",
   "id": "199adfaa",
   "metadata": {},
   "source": [
    "## Check Test Dataset - Second Ophthalmologist"
   ]
  },
  {
   "cell_type": "code",
   "execution_count": null,
   "id": "b30e2fb7",
   "metadata": {},
   "outputs": [],
   "source": [
    "test_dir_second = \"Data-New/Test-3-class-2nd-ophth-adjust\"\n",
    "\n",
    "test_ds_second = tf.keras.utils.image_dataset_from_directory(\n",
    "    test_dir_second,\n",
    "    shuffle=False,\n",
    "    color_mode='grayscale',\n",
    "    image_size=(img_height, img_width),\n",
    "    batch_size=batch_size,\n",
    "    label_mode='categorical',\n",
    "    class_names=class_names\n",
    ")"
   ]
  },
  {
   "cell_type": "code",
   "execution_count": null,
   "id": "d01f0b41",
   "metadata": {},
   "outputs": [],
   "source": [
    "full_model.evaluate(test_ds_second, batch_size=batch_size)"
   ]
  },
  {
   "cell_type": "code",
   "execution_count": null,
   "id": "29d75f08",
   "metadata": {},
   "outputs": [],
   "source": [
    "# Get predictions and get evaluation\n",
    "test_predictions_values_second = full_model.predict(test_ds_second)\n",
    "test_predictions_second = np.argmax(test_predictions_values_second, axis=1)\n",
    "test_labels_values_second = np.concatenate(list(test_ds_second.map(lambda x, y:y)))\n",
    "test_labels_second = np.argmax(test_labels_values_second, axis=1)\n",
    "\n",
    "print(classification_report(test_labels_second, test_predictions_second, target_names=class_names))"
   ]
  },
  {
   "cell_type": "code",
   "execution_count": null,
   "id": "3d126ee6",
   "metadata": {},
   "outputs": [],
   "source": [
    "cm_second = confusion_matrix(test_labels_second, test_predictions_second, labels=[0,1,2])\n",
    "disp = ConfusionMatrixDisplay(confusion_matrix=cm_second,display_labels=disp_labels)\n",
    "\n",
    "disp.plot(cmap=plt.cm.Blues)\n",
    "disp.ax_.set_title('2nd Ophthalmologist')"
   ]
  },
  {
   "cell_type": "code",
   "execution_count": null,
   "id": "39cbbb11",
   "metadata": {},
   "outputs": [],
   "source": [
    "disp.figure_.savefig('figures/cm-3class-test-second-ophth.pdf', bbox_inches = 'tight')"
   ]
  },
  {
   "cell_type": "code",
   "execution_count": null,
   "id": "7e0f1b7b",
   "metadata": {},
   "outputs": [],
   "source": [
    "print_sens_spec_3class(cm_second)"
   ]
  },
  {
   "cell_type": "code",
   "execution_count": null,
   "id": "4bdadc6c",
   "metadata": {},
   "outputs": [],
   "source": [
    "# Examine predictions for the validation data ~ print percentages for each entry and consider effect of model\n",
    "test_filenames_second = [l[-10:-4] for l in test_ds_second.file_paths]"
   ]
  },
  {
   "cell_type": "code",
   "execution_count": null,
   "id": "bd9505e0",
   "metadata": {},
   "outputs": [],
   "source": [
    "df_test_second = pd.DataFrame(test_filenames_second, columns=['Filename'])\n",
    "df_test_second['NORMAL-Prob'] = test_predictions_values_second[:,0]\n",
    "df_test_second['NCI-DME-Prob'] = test_predictions_values_second[:,1]\n",
    "df_test_second['CI-DME-Prob'] = test_predictions_values_second[:,2]\n",
    "df_test_second['Predicted'] = test_predictions_second\n",
    "df_test_second['Actual'] = test_labels_second\n",
    "df_test_second['NORMAL-Label'] = test_labels_values_second[:,0]\n",
    "df_test_second['NCI-DME-Label'] = test_labels_values_second[:,1]\n",
    "df_test_second['CI-DME-Label'] = test_labels_values_second[:,2]\n",
    "class_codes = {0:'NORMAL', 1:'NCI-DME', 2:'CI-DME'}\n",
    "df_test_second['Predicted.name'] = df_test_second['Predicted'].map(class_codes)\n",
    "df_test_second['Actual.name'] = df_test_second['Actual'].map(class_codes)\n",
    "df_test_second['Correct'] = df_test_second['Predicted'] == df_test_second['Actual']"
   ]
  },
  {
   "cell_type": "code",
   "execution_count": null,
   "id": "acabc8fa",
   "metadata": {
    "scrolled": true
   },
   "outputs": [],
   "source": [
    "pd.set_option(\"display.max_rows\", None)\n",
    "pd.options.display.float_format = '{:,.4f}'.format\n",
    "display(df_test_second)"
   ]
  },
  {
   "cell_type": "code",
   "execution_count": null,
   "id": "bd10d5d3",
   "metadata": {},
   "outputs": [],
   "source": [
    "df_test_second.to_csv('predictions/predictions_classification_test_second.csv')"
   ]
  },
  {
   "cell_type": "code",
   "execution_count": null,
   "id": "5efe54bb",
   "metadata": {},
   "outputs": [],
   "source": [
    "# Compute ROC curve and ROC area for each class\n",
    "fpr_test_second = dict()\n",
    "tpr_test_second = dict()\n",
    "roc_auc_test_second = dict()\n",
    "\n",
    "plt.figure()\n",
    "\n",
    "# for i in range(num_classes):\n",
    "    \n",
    "i=0\n",
    "fpr_test_second[i], tpr_test_second[i], _ = roc_curve(test_labels_values_second[:, i], test_predictions_values_second[:, i])\n",
    "roc_auc_test_second[i] = auc(fpr_test_second[i], tpr_test_second[i])\n",
    "plt.plot(fpr_test_second[i], tpr_test_second[i], label='ROC curve of NORMAL class (area = {1:0.2f})'.format(i, roc_auc_test_second[i]))\n",
    "\n",
    "i=1\n",
    "fpr_test_second[i], tpr_test_second[i], _ = roc_curve(test_labels_values_second[:, i], test_predictions_values_second[:, i])\n",
    "roc_auc_test_second[i] = auc(fpr_test_second[i], tpr_test_second[i])\n",
    "plt.plot(fpr_test_second[i], tpr_test_second[i], label='ROC curve of NCI-DME class (area = {1:0.2f})'.format(i, roc_auc_test_second[i]))\n",
    "\n",
    "i=2\n",
    "fpr_test_second[i], tpr_test_second[i], _ = roc_curve(test_labels_values_second[:, i], test_predictions_values_second[:, i])\n",
    "roc_auc_test_second[i] = auc(fpr_test_second[i], tpr_test_second[i])\n",
    "plt.plot(fpr_test_second[i], tpr_test_second[i], label='ROC curve of CI-DME class (area = {1:0.2f})'.format(i, roc_auc_test_second[i]))\n",
    "\n",
    "\n",
    "plt.xlabel('False Positive Rate')\n",
    "plt.ylabel('True Positive Rate')\n",
    "plt.title('2nd Ophthalmologist')\n",
    "plt.legend(loc=\"lower right\")\n",
    "plt.savefig('figures/ROC-3class-test-second-ophth.pdf', bbox_inches = 'tight')\n",
    "plt.show()"
   ]
  },
  {
   "cell_type": "code",
   "execution_count": null,
   "id": "ad7ae10a",
   "metadata": {},
   "outputs": [],
   "source": []
  }
 ],
 "metadata": {
  "kernelspec": {
   "display_name": "Python 3",
   "language": "python",
   "name": "python3"
  },
  "language_info": {
   "codemirror_mode": {
    "name": "ipython",
    "version": 3
   },
   "file_extension": ".py",
   "mimetype": "text/x-python",
   "name": "python",
   "nbconvert_exporter": "python",
   "pygments_lexer": "ipython3",
   "version": "3.8.13"
  }
 },
 "nbformat": 4,
 "nbformat_minor": 5
}
