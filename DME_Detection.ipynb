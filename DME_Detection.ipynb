{
 "cells": [
  {
   "cell_type": "code",
   "execution_count": null,
   "id": "b5134313",
   "metadata": {},
   "outputs": [],
   "source": [
    "import matplotlib.pyplot as plt\n",
    "import numpy as np\n",
    "import os\n",
    "import PIL\n",
    "import tensorflow as tf\n",
    "import splitfolders\n",
    "import sys\n",
    "import pathlib\n",
    "import pandas as pd\n",
    "import pickle\n",
    "\n",
    "from tensorflow import keras\n",
    "from tensorflow.keras import layers\n",
    "from tensorflow.keras.models import Sequential\n",
    "from tensorflow.keras.optimizers import SGD\n",
    "import tensorflow_datasets as tfds\n",
    "\n",
    "from sklearn.metrics import roc_curve, auc, roc_auc_score\n",
    "from sklearn.metrics import classification_report, confusion_matrix, ConfusionMatrixDisplay\n",
    "from sklearn.model_selection import KFold, StratifiedKFold\n",
    "\n",
    "from helper_functions import print_sens_spec_3class, print_sens_spec_2class"
   ]
  },
  {
   "cell_type": "code",
   "execution_count": null,
   "id": "6db5f461",
   "metadata": {},
   "outputs": [],
   "source": [
    "from IPython.display import display, HTML\n",
    "display(HTML(\"<style>.container { width:95% !important; }</style>\"))"
   ]
  },
  {
   "cell_type": "code",
   "execution_count": null,
   "id": "a150b690",
   "metadata": {},
   "outputs": [],
   "source": [
    "print(sys.version)\n",
    "print('tensorflow: %s' % tf.__version__)\n",
    "print('keras: %s' % keras.__version__)"
   ]
  },
  {
   "cell_type": "code",
   "execution_count": null,
   "id": "c7255731",
   "metadata": {},
   "outputs": [],
   "source": [
    "# Define parameters\n",
    "batch_size = 32\n",
    "img_height = 256\n",
    "img_width = 256\n",
    "num_splits = 5\n",
    "binary_threshold = 0.5\n",
    "epochs = 35\n",
    "learning_rate=0.001\n",
    "\n",
    "class_names = ['Normal','DME']\n",
    "num_classes = len(class_names)"
   ]
  },
  {
   "cell_type": "markdown",
   "id": "7756927e",
   "metadata": {},
   "source": [
    "## Read Data and Train Model"
   ]
  },
  {
   "cell_type": "code",
   "execution_count": null,
   "id": "984e095b",
   "metadata": {},
   "outputs": [],
   "source": [
    "trainval_dir = \"Data/Primary-2-class-train-val\"\n",
    "trainval_dir = pathlib.Path(trainval_dir)\n",
    "\n",
    "trainval_count = len(list(trainval_dir.glob('*/*.png')))\n",
    "print(\"Training & Val Count: \" + str(trainval_count))"
   ]
  },
  {
   "cell_type": "code",
   "execution_count": null,
   "id": "32c88b68",
   "metadata": {},
   "outputs": [],
   "source": [
    "trainval_ds = tf.keras.utils.image_dataset_from_directory(\n",
    "    trainval_dir,\n",
    "    seed=124,\n",
    "    color_mode='grayscale',\n",
    "    image_size=(img_height, img_width),\n",
    "    batch_size=batch_size,\n",
    "    label_mode='binary',\n",
    "    class_names=class_names\n",
    ")"
   ]
  },
  {
   "cell_type": "code",
   "execution_count": null,
   "id": "aeb114a2",
   "metadata": {},
   "outputs": [],
   "source": [
    "# Convert dataset to numpy for use with kfold\n",
    "trainval_ds_ub = trainval_ds.unbatch()\n",
    "trainval_ds_np = tfds.as_numpy(trainval_ds_ub)\n",
    "\n",
    "trainval_data = []\n",
    "trainval_labels = []\n",
    "\n",
    "for entry in trainval_ds_np:\n",
    "    trainval_data.append(entry[0])\n",
    "    trainval_labels.append(entry[1])\n",
    "    \n",
    "trainval_data_np = np.array(trainval_data)\n",
    "trainval_labels_np = np.array(trainval_labels)\n",
    "\n",
    "print(trainval_data_np.shape)\n",
    "print(trainval_labels_np.shape)"
   ]
  },
  {
   "cell_type": "code",
   "execution_count": null,
   "id": "e8292292",
   "metadata": {},
   "outputs": [],
   "source": [
    "# Define kfold split\n",
    "kfold = StratifiedKFold(n_splits=num_splits, shuffle=True)"
   ]
  },
  {
   "cell_type": "code",
   "execution_count": null,
   "id": "0515aaa2",
   "metadata": {},
   "outputs": [],
   "source": [
    "# Data augmentation\n",
    "with tf.device('/CPU:0'):\n",
    "\n",
    "    data_augmentation = keras.Sequential(\n",
    "      [\n",
    "        layers.RandomFlip(\"horizontal\",input_shape=(img_height,img_width,1),seed=136),\n",
    "        layers.RandomRotation(0.1, seed=175),\n",
    "        layers.RandomZoom(0.1, seed=181),\n",
    "      ]\n",
    "    )"
   ]
  },
  {
   "cell_type": "code",
   "execution_count": null,
   "id": "72c53eb9",
   "metadata": {},
   "outputs": [],
   "source": [
    "# Define Model\n",
    "def getModel():\n",
    "    \n",
    "    model = Sequential([\n",
    "        data_augmentation,\n",
    "        layers.Rescaling(1./255, input_shape=(img_height, img_width, 1)),\n",
    "        layers.Conv2D(16, 3, padding='same', activation='relu'),\n",
    "        layers.MaxPooling2D(),\n",
    "        layers.Conv2D(32, 3, padding='same', activation='relu'),\n",
    "        layers.MaxPooling2D(),\n",
    "        layers.Conv2D(64, 3, padding='same', activation='relu'),\n",
    "        layers.MaxPooling2D(),\n",
    "        layers.Conv2D(128, 3, padding='same', activation='relu'),\n",
    "        layers.MaxPooling2D(),\n",
    "        layers.Conv2D(256, 3, padding='same', activation='relu'),\n",
    "        layers.BatchNormalization(),\n",
    "        layers.MaxPooling2D(),\n",
    "        layers.Dense(256, activation='relu'),\n",
    "        layers.Dropout(0.20),\n",
    "        layers.Flatten(),\n",
    "        layers.Dense(128, activation='relu'),\n",
    "        layers.Dense(1, activation='sigmoid')\n",
    "    ])\n",
    "    \n",
    "    return model"
   ]
  },
  {
   "cell_type": "code",
   "execution_count": null,
   "id": "f36dcc76",
   "metadata": {},
   "outputs": [],
   "source": [
    "%%time\n",
    "tf.keras.backend.clear_session()\n",
    "\n",
    "loss_values = []\n",
    "acc_scores = []\n",
    "auc_scores = []\n",
    "prec_scores = []\n",
    "recall_scores = []\n",
    "\n",
    "histories = []\n",
    "models = []\n",
    "\n",
    "val_predictions_values_cv = []\n",
    "val_predictions_cv = []\n",
    "val_labels_cv = []\n",
    "\n",
    "i = 1\n",
    "\n",
    "for train_index, val_index in kfold.split(trainval_data_np, trainval_labels_np):\n",
    "    \n",
    "    tf.keras.backend.clear_session()\n",
    "\n",
    "    print(\"\\n#### This is split: \" + str(i) + \" ####\")\n",
    "    \n",
    "    train_data_fold, val_data_fold = trainval_data_np[train_index], trainval_data_np[val_index]\n",
    "    train_labels_fold, val_labels_fold = trainval_labels_np[train_index], trainval_labels_np[val_index]\n",
    "    \n",
    "    print(\"Training Entries: \" + str(train_data_fold.shape[0]))\n",
    "    print(\"Validation Entries: \" + str(val_data_fold.shape[0]))\n",
    "    print(\"\\n\")\n",
    "    \n",
    "    model = getModel()\n",
    "    \n",
    "    opt = keras.optimizers.Adam(learning_rate=learning_rate)\n",
    "    \n",
    "    model.compile(optimizer=opt,\n",
    "              loss=tf.keras.losses.BinaryCrossentropy(),\n",
    "              metrics=[tf.keras.metrics.BinaryAccuracy(),\n",
    "                       tf.keras.metrics.AUC(),\n",
    "                       tf.keras.metrics.Precision(),\n",
    "                       tf.keras.metrics.Recall()])\n",
    "\n",
    "    history = model.fit(train_data_fold,train_labels_fold,\n",
    "                        epochs=epochs,\n",
    "                        batch_size = batch_size, \n",
    "                        validation_data = (val_data_fold, val_labels_fold))\n",
    "    \n",
    "    histories.append(history)\n",
    "\n",
    "    scores = model.evaluate(val_data_fold, val_labels_fold)\n",
    "    \n",
    "    v_predictions_values = model.predict(val_data_fold)\n",
    "    v_predictions = np.where(v_predictions_values > binary_threshold, 1, 0)\n",
    "    v_labels = val_labels_fold\n",
    "    \n",
    "    val_predictions_values_cv.append(v_predictions_values)\n",
    "    val_predictions_cv.append(v_predictions)\n",
    "    val_labels_cv.append(v_labels)\n",
    "\n",
    "    print(\"%s: %.2f%% \\n\" % (model.metrics_names[1], scores[1]*100))\n",
    "\n",
    "    loss_values.append(scores[0])\n",
    "    acc_scores.append(scores[1])\n",
    "    auc_scores.append(scores[2])\n",
    "    prec_scores.append(scores[3])\n",
    "    recall_scores.append(scores[4])\n",
    "    i += 1\n",
    "\n",
    "print(\"\\n#### OVERALL SUMMARY - FROM EVALUATION SETS ####\")\n",
    "print(\"Average final loss: %.2f (+/- %.2f)\" % (np.mean(loss_values), np.std(loss_values)))\n",
    "print(\"Average accuracy: %.2f%% (+/- %.2f%%)\" % (np.mean(acc_scores)*100, np.std(acc_scores)*100))\n",
    "print(\"Average final AUC: %.2f (+/- %.2f)\" % (np.mean(auc_scores), np.std(auc_scores)))\n",
    "print(\"Average precision: %.2f%% (+/- %.2f%%)\" % (np.mean(prec_scores)*100, np.std(prec_scores)*100))\n",
    "print(\"Average recall: %.2f%% (+/- %.2f%%)\" % (np.mean(recall_scores)*100, np.std(recall_scores)*100))"
   ]
  },
  {
   "cell_type": "code",
   "execution_count": null,
   "id": "6764c336",
   "metadata": {
    "scrolled": true
   },
   "outputs": [],
   "source": [
    "# Record to check epoch for minimum loss and max accuracy\n",
    "loss_val_values = np.zeros(epochs)\n",
    "acc_val_values = np.zeros(epochs)\n",
    "\n",
    "for history in histories:\n",
    "    \n",
    "    epochs_plot = range(1,epochs+1)\n",
    "\n",
    "    # Training and Validation Accuracy and Loss\n",
    "    train_acc = history.history['binary_accuracy']\n",
    "    val_acc = history.history['val_binary_accuracy']\n",
    "    \n",
    "    acc_val_values = np.add(acc_val_values, val_acc)\n",
    "\n",
    "    train_loss = history.history['loss']\n",
    "    val_loss = history.history['val_loss']\n",
    "    \n",
    "    loss_val_values = np.add(loss_val_values, val_loss)\n",
    "\n",
    "    train_prec = history.history['precision']\n",
    "    val_prec = history.history['val_precision']\n",
    "\n",
    "    train_recall = history.history['recall']\n",
    "    val_recall = history.history['val_recall']\n",
    "\n",
    "    train_auc = history.history['auc']\n",
    "    val_auc = history.history['val_auc']\n",
    "\n",
    "    epochs_range = range(epochs)\n",
    "\n",
    "    plt.figure(figsize=(20, 8))\n",
    "    plt.subplot(1, 5, 1)\n",
    "    plt.plot(epochs_plot, train_acc, label='Training Accuracy')\n",
    "    plt.plot(epochs_plot, val_acc, label='Validation Accuracy')\n",
    "    plt.legend(loc='lower right')\n",
    "    plt.title('Training and Validation Accuracy')\n",
    "\n",
    "    plt.subplot(1, 5, 2)\n",
    "    plt.plot(epochs_plot, train_loss, label='Training Loss')\n",
    "    plt.plot(epochs_plot, val_loss, label='Validation Loss')\n",
    "    plt.legend(loc='upper right')\n",
    "    plt.title('Training and Validation Loss')\n",
    "\n",
    "    plt.subplot(1, 5, 3)\n",
    "    plt.plot(epochs_plot, train_prec, label='Precision')\n",
    "    plt.plot(epochs_plot, val_prec, label='Validation Precision')\n",
    "    plt.legend(loc='lower right')\n",
    "    plt.title('Training and Validation Precision')\n",
    "\n",
    "    plt.subplot(1, 5, 4)\n",
    "    plt.plot(epochs_plot, train_recall, label='Recall')\n",
    "    plt.plot(epochs_plot, val_recall, label='Validation Recall')\n",
    "    plt.legend(loc='lower right')\n",
    "    plt.title('Training and Validation Recall')\n",
    "\n",
    "    plt.subplot(1, 5, 5)\n",
    "    plt.plot(epochs_plot, train_auc, label='AUC')\n",
    "    plt.plot(epochs_plot, val_auc, label='Validation AUC')\n",
    "    plt.legend(loc='lower right')\n",
    "    plt.title('Training and Validation AUC')\n",
    "\n",
    "    plt.show()"
   ]
  },
  {
   "cell_type": "code",
   "execution_count": null,
   "id": "20949cb6",
   "metadata": {},
   "outputs": [],
   "source": [
    "avg_loss_val_values = loss_val_values/num_splits\n",
    "min_avg_loss = min(avg_loss_val_values)\n",
    "min_loss_epoch = (np.argmin(avg_loss_val_values) + 1)\n",
    "\n",
    "print(\"Average minimum loss: \" + str(min_avg_loss))\n",
    "print(\"Epoch number for min loss: \" + str(min_loss_epoch))\n",
    "\n",
    "epochs_plot = range(1,epochs+1)\n",
    "\n",
    "plt.figure()\n",
    "plt.plot(epochs_plot,avg_loss_val_values,)\n",
    "plt.xlabel('Epoch')\n",
    "plt.ylabel('Avg Loss')\n",
    "plt.title('Loss over epochs')"
   ]
  },
  {
   "cell_type": "code",
   "execution_count": null,
   "id": "70beaf2a",
   "metadata": {},
   "outputs": [],
   "source": [
    "avg_acc_val_values = acc_val_values/num_splits\n",
    "max_avg_acc = max(avg_acc_val_values)\n",
    "max_acc_epoch = (np.argmax(avg_acc_val_values) + 1)\n",
    "\n",
    "print(\"Average maximum accuracy: \" + str(max_avg_acc))\n",
    "print(\"Epoch number for max acc: \" + str(max_acc_epoch))\n",
    "\n",
    "epochs_plot = range(1,epochs+1)\n",
    "\n",
    "plt.figure()\n",
    "plt.plot(epochs_plot,avg_acc_val_values,)\n",
    "plt.xlabel('Epoch')\n",
    "plt.ylabel('Avg Accuracy')\n",
    "plt.title('Accuracy over epochs')"
   ]
  },
  {
   "cell_type": "markdown",
   "id": "b170be2e",
   "metadata": {},
   "source": [
    "## Metrics on the Cross Validation Sets"
   ]
  },
  {
   "cell_type": "code",
   "execution_count": null,
   "id": "18133b3d",
   "metadata": {
    "scrolled": true
   },
   "outputs": [],
   "source": [
    "for i in range(num_splits):\n",
    "\n",
    "    val_labels = val_labels_cv[i]\n",
    "    val_predictions = val_predictions_cv[i]\n",
    "    val_predictions_values = val_predictions_values_cv[i]\n",
    "    \n",
    "    print(\"\\n### Results for split number: \" + str(i+1) + \"\\n\")\n",
    "\n",
    "    print(classification_report(val_labels, val_predictions, target_names=['Normal','DME']))\n",
    "\n",
    "    cm = confusion_matrix(val_labels, val_predictions, labels=[0,1])\n",
    "    disp = ConfusionMatrixDisplay(confusion_matrix=cm,display_labels=['Normal','DME'])\n",
    "    disp.plot()\n",
    "    \n",
    "    print_sens_spec_2class(cm)\n",
    "    \n",
    "    fpr_val = dict()\n",
    "    tpr_val = dict()\n",
    "    roc_auc_val = dict()\n",
    "    \n",
    "    plt.figure()\n",
    "\n",
    "    fpr_val, tpr_val, thresholds = roc_curve(val_labels, val_predictions_values)\n",
    "    roc_auc_val = auc(fpr_val, tpr_val)\n",
    "    plt.plot(fpr_val, tpr_val, label='ROC curve (area = {0:0.2f})'.format(roc_auc_val))\n",
    "\n",
    "    plt.xlabel('False Positive Rate')\n",
    "    plt.ylabel('True Positive Rate')\n",
    "    plt.title('Receiver operating characteristic - Validation Data')\n",
    "    plt.legend(loc=\"lower right\")\n",
    "    plt.show()    "
   ]
  },
  {
   "cell_type": "markdown",
   "id": "f9ee0ec3",
   "metadata": {},
   "source": [
    "## Retrain the dataset on all of the data"
   ]
  },
  {
   "cell_type": "code",
   "execution_count": null,
   "id": "a594147c",
   "metadata": {},
   "outputs": [],
   "source": [
    "trainval_ds = tf.keras.utils.image_dataset_from_directory(\n",
    "    trainval_dir,\n",
    "    seed=124,\n",
    "    color_mode='grayscale',\n",
    "    image_size=(img_height, img_width),\n",
    "    batch_size=batch_size,\n",
    "    label_mode='binary',\n",
    "    class_names=class_names\n",
    ")"
   ]
  },
  {
   "cell_type": "code",
   "execution_count": null,
   "id": "3bf51158",
   "metadata": {},
   "outputs": [],
   "source": [
    "AUTOTUNE = tf.data.AUTOTUNE\n",
    "trainval_ds_p = trainval_ds.cache().shuffle(1000).prefetch(buffer_size=AUTOTUNE)"
   ]
  },
  {
   "cell_type": "code",
   "execution_count": null,
   "id": "2b496a6b",
   "metadata": {
    "scrolled": true
   },
   "outputs": [],
   "source": [
    "full_model = getModel()\n",
    "    \n",
    "opt = keras.optimizers.Adam(learning_rate=learning_rate)\n",
    "\n",
    "full_model.compile(optimizer=opt,\n",
    "          loss=tf.keras.losses.BinaryCrossentropy(),\n",
    "          metrics=[tf.keras.metrics.BinaryAccuracy(),\n",
    "                   tf.keras.metrics.AUC(),\n",
    "                   tf.keras.metrics.Precision(),\n",
    "                   tf.keras.metrics.Recall()])\n",
    "\n",
    "history = full_model.fit(trainval_ds_p,\n",
    "                         epochs=epochs,\n",
    "                         batch_size = batch_size)"
   ]
  },
  {
   "cell_type": "code",
   "execution_count": null,
   "id": "b24cb026",
   "metadata": {},
   "outputs": [],
   "source": [
    "# Save the model\n",
    "# full_model.save(\"Models/model_name.h5\")"
   ]
  },
  {
   "cell_type": "code",
   "execution_count": null,
   "id": "e4144c5e",
   "metadata": {},
   "outputs": [],
   "source": [
    "# Load the model \n",
    "# full_model = keras.models.load_model(\"Models/model_name.h5\")"
   ]
  },
  {
   "cell_type": "code",
   "execution_count": null,
   "id": "89383d9d",
   "metadata": {},
   "outputs": [],
   "source": [
    "full_model.summary()"
   ]
  },
  {
   "cell_type": "markdown",
   "id": "8d15f919",
   "metadata": {},
   "source": [
    "## Check Test Dataset - First Ophthalmologist"
   ]
  },
  {
   "cell_type": "code",
   "execution_count": null,
   "id": "16459f4b",
   "metadata": {},
   "outputs": [],
   "source": [
    "test_dir_first = \"Data/Test-2-class-1st-ophth\"\n",
    "\n",
    "test_ds_first = tf.keras.utils.image_dataset_from_directory(\n",
    "    test_dir_first,\n",
    "    shuffle=False,\n",
    "    color_mode='grayscale',\n",
    "    image_size=(img_height, img_width),\n",
    "    batch_size=batch_size,\n",
    "    label_mode='binary',\n",
    "    class_names=class_names\n",
    ")"
   ]
  },
  {
   "cell_type": "code",
   "execution_count": null,
   "id": "faa2b979",
   "metadata": {},
   "outputs": [],
   "source": [
    "full_model.evaluate(test_ds_first, batch_size=batch_size)"
   ]
  },
  {
   "cell_type": "code",
   "execution_count": null,
   "id": "1e40968a",
   "metadata": {},
   "outputs": [],
   "source": [
    "# Get predictions and get evaluation\n",
    "test_predictions_values_first = full_model.predict(test_ds_first)\n",
    "test_predictions_first = np.where(test_predictions_values_first > binary_threshold, 1,0)\n",
    "test_labels_first = np.concatenate(list(test_ds_first.map(lambda x, y:y)))\n",
    "\n",
    "print(classification_report(test_labels_first, test_predictions_first, target_names=class_names))"
   ]
  },
  {
   "cell_type": "code",
   "execution_count": null,
   "id": "15a0775b",
   "metadata": {},
   "outputs": [],
   "source": [
    "cm_first = confusion_matrix(test_labels_first, test_predictions_first, labels=[0,1])\n",
    "disp = ConfusionMatrixDisplay(confusion_matrix=cm_first,display_labels=class_names)\n",
    "\n",
    "disp.plot(cmap=plt.cm.Blues)\n",
    "disp.ax_.set_title('1st Ophthalmologist')"
   ]
  },
  {
   "cell_type": "code",
   "execution_count": null,
   "id": "738a5b73",
   "metadata": {},
   "outputs": [],
   "source": [
    "# disp.figure_.savefig('Figures/cm-2class-test-first-ophth.pdf', bbox_inches = 'tight')"
   ]
  },
  {
   "cell_type": "code",
   "execution_count": null,
   "id": "b65888aa",
   "metadata": {},
   "outputs": [],
   "source": [
    "print_sens_spec_2class(cm_first)"
   ]
  },
  {
   "cell_type": "code",
   "execution_count": null,
   "id": "00f41bfa",
   "metadata": {},
   "outputs": [],
   "source": [
    "# Examine predictions for the validation data ~ print percentages for each entry and consider effect of model\n",
    "test_filenames_first = [l[-10:-4] for l in test_ds_first.file_paths]"
   ]
  },
  {
   "cell_type": "code",
   "execution_count": null,
   "id": "4067dac1",
   "metadata": {},
   "outputs": [],
   "source": [
    "df_test_first = pd.DataFrame(test_filenames_first, columns=['Filename'])\n",
    "df_test_first['DME-Prob'] = test_predictions_values_first[:,0]\n",
    "df_test_first['Predicted'] = test_predictions_first\n",
    "df_test_first['Actual'] = test_labels_first\n",
    "class_codes = {0:'Normal', 1:'DME'}\n",
    "df_test_first['Predicted'] = df_test_first['Predicted'].map(class_codes)\n",
    "df_test_first['Actual'] = df_test_first['Actual'].map(class_codes)\n",
    "df_test_first['Correct'] = df_test_first['Predicted'] == df_test_first['Actual']"
   ]
  },
  {
   "cell_type": "code",
   "execution_count": null,
   "id": "c4d01e77",
   "metadata": {
    "scrolled": true
   },
   "outputs": [],
   "source": [
    "pd.set_option(\"display.max_rows\", None)\n",
    "pd.options.display.float_format = '{:,.4f}'.format\n",
    "display(df_test_first)"
   ]
  },
  {
   "cell_type": "code",
   "execution_count": null,
   "id": "10f4b988",
   "metadata": {},
   "outputs": [],
   "source": [
    "# Compute ROC curve\n",
    "plt.figure()\n",
    "\n",
    "fpr_test_first, tpr_test_first, thresholds = roc_curve(test_labels_first, test_predictions_values_first)\n",
    "roc_auc_test_first = auc(fpr_test_first, tpr_test_first)\n",
    "plt.plot(fpr_test_first, tpr_test_first, label='ROC curve (area = {0:0.2f})'.format(roc_auc_test_first))\n",
    "\n",
    "plt.xlabel('False Positive Rate')\n",
    "plt.ylabel('True Positive Rate')\n",
    "plt.title('1st Ophthalmologist')\n",
    "plt.legend(loc=\"lower right\")\n",
    "\n",
    "# plt.savefig('figures/ROC-2class-test-first-ophth.pdf', bbox_inches = 'tight')\n",
    "\n",
    "plt.show()"
   ]
  },
  {
   "cell_type": "code",
   "execution_count": null,
   "id": "0992a409",
   "metadata": {},
   "outputs": [],
   "source": [
    "roc_auc_test_first"
   ]
  },
  {
   "cell_type": "markdown",
   "id": "68a3e680",
   "metadata": {},
   "source": [
    "## Check Test Dataset - Second Ophthalmologist"
   ]
  },
  {
   "cell_type": "code",
   "execution_count": null,
   "id": "1b6a9a05",
   "metadata": {},
   "outputs": [],
   "source": [
    "test_dir_second = \"Data/Test-2-class-2nd-ophth\"\n",
    "\n",
    "test_ds_second = tf.keras.utils.image_dataset_from_directory(\n",
    "    test_dir_second,\n",
    "    shuffle=False,\n",
    "    color_mode='grayscale',\n",
    "    image_size=(img_height, img_width),\n",
    "    batch_size=batch_size,\n",
    "    label_mode='binary',\n",
    "    class_names=class_names\n",
    ")"
   ]
  },
  {
   "cell_type": "code",
   "execution_count": null,
   "id": "f3f87fc6",
   "metadata": {},
   "outputs": [],
   "source": [
    "full_model.evaluate(test_ds_second, batch_size=batch_size)"
   ]
  },
  {
   "cell_type": "code",
   "execution_count": null,
   "id": "77fbdeb1",
   "metadata": {},
   "outputs": [],
   "source": [
    "# Get predictions and get evaluation\n",
    "test_predictions_values_second = full_model.predict(test_ds_second)\n",
    "test_predictions_second = np.where(test_predictions_values_second > binary_threshold, 1,0)\n",
    "test_labels_second = np.concatenate(list(test_ds_second.map(lambda x, y:y)))\n",
    "\n",
    "print(classification_report(test_labels_second, test_predictions_second, target_names=class_names))"
   ]
  },
  {
   "cell_type": "code",
   "execution_count": null,
   "id": "10e2e2b9",
   "metadata": {},
   "outputs": [],
   "source": [
    "cm_second = confusion_matrix(test_labels_second, test_predictions_second, labels=[0,1])\n",
    "disp = ConfusionMatrixDisplay(confusion_matrix=cm_second,display_labels=class_names)\n",
    "\n",
    "disp.plot(cmap=plt.cm.Blues)\n",
    "disp.ax_.set_title('2nd Ophthalmologist')"
   ]
  },
  {
   "cell_type": "code",
   "execution_count": null,
   "id": "fd6ddd8f",
   "metadata": {},
   "outputs": [],
   "source": [
    "# disp.figure_.savefig('figures/cm-2class-test-second-ophth.pdf', bbox_inches = 'tight')"
   ]
  },
  {
   "cell_type": "code",
   "execution_count": null,
   "id": "877be67c",
   "metadata": {},
   "outputs": [],
   "source": [
    "print_sens_spec_2class(cm_second)"
   ]
  },
  {
   "cell_type": "code",
   "execution_count": null,
   "id": "ba756fb4",
   "metadata": {},
   "outputs": [],
   "source": [
    "# Examine predictions for the validation data ~ print percentages for each entry and consider effect of model\n",
    "test_filenames_second = [l[-10:-4] for l in test_ds_second.file_paths]"
   ]
  },
  {
   "cell_type": "code",
   "execution_count": null,
   "id": "2a4a5d51",
   "metadata": {},
   "outputs": [],
   "source": [
    "df_test_second = pd.DataFrame(test_filenames_second, columns=['Filename'])\n",
    "df_test_second['DME-Prob'] = test_predictions_values_second[:,0]\n",
    "df_test_second['Predicted'] = test_predictions_second\n",
    "df_test_second['Actual'] = test_labels_second\n",
    "class_codes = {0:'Normal', 1:'DME'}\n",
    "df_test_second['Predicted'] = df_test_second['Predicted'].map(class_codes)\n",
    "df_test_second['Actual'] = df_test_second['Actual'].map(class_codes)\n",
    "df_test_second['Correct'] = df_test_second['Predicted'] == df_test_second['Actual']"
   ]
  },
  {
   "cell_type": "code",
   "execution_count": null,
   "id": "c6045305",
   "metadata": {},
   "outputs": [],
   "source": [
    "pd.set_option(\"display.max_rows\", None)\n",
    "pd.options.display.float_format = '{:,.4f}'.format\n",
    "display(df_test_second)"
   ]
  },
  {
   "cell_type": "code",
   "execution_count": null,
   "id": "18c606a1",
   "metadata": {},
   "outputs": [],
   "source": [
    "# Compute ROC curve\n",
    "plt.figure()\n",
    "\n",
    "fpr_test_second, tpr_test_second, thresholds = roc_curve(test_labels_second, test_predictions_values_second)\n",
    "roc_auc_test_second = auc(fpr_test_second, tpr_test_second)\n",
    "plt.plot(fpr_test_second, tpr_test_second, label='ROC curve (area = {0:0.2f})'.format(roc_auc_test_second))\n",
    "\n",
    "plt.xlabel('False Positive Rate')\n",
    "plt.ylabel('True Positive Rate')\n",
    "plt.title('2nd Ophthalmologist')\n",
    "plt.legend(loc=\"lower right\")\n",
    "\n",
    "# plt.savefig('figures/ROC-2class-test-second-ophth.pdf', bbox_inches = 'tight')\n",
    "\n",
    "plt.show()"
   ]
  },
  {
   "cell_type": "code",
   "execution_count": null,
   "id": "79b0f264",
   "metadata": {},
   "outputs": [],
   "source": [
    "roc_auc_test_second"
   ]
  },
  {
   "cell_type": "markdown",
   "id": "1a032aee",
   "metadata": {},
   "source": [
    "## Run for External Dataset - Kermany 2018 DME and NORMAL Data only"
   ]
  },
  {
   "cell_type": "code",
   "execution_count": null,
   "id": "f2aacc37",
   "metadata": {},
   "outputs": [],
   "source": [
    "ext_dir = \"Data/Extern-Kermany-2018\"\n",
    "\n",
    "ext_ds = tf.keras.utils.image_dataset_from_directory(\n",
    "    ext_dir,\n",
    "    shuffle=False,\n",
    "    color_mode='grayscale',\n",
    "    image_size=(img_height, img_width),\n",
    "    batch_size=batch_size,\n",
    "    label_mode='binary',\n",
    "    class_names=class_names\n",
    ")"
   ]
  },
  {
   "cell_type": "code",
   "execution_count": null,
   "id": "e39536a6",
   "metadata": {},
   "outputs": [],
   "source": [
    "full_model.evaluate(ext_ds, batch_size=batch_size)"
   ]
  },
  {
   "cell_type": "code",
   "execution_count": null,
   "id": "d9f23723",
   "metadata": {},
   "outputs": [],
   "source": [
    "# Get predictions and get evaluation\n",
    "ext_predictions_values = full_model.predict(ext_ds)\n",
    "ext_predictions = np.where(ext_predictions_values > binary_threshold, 1,0)\n",
    "ext_labels = np.concatenate(list(ext_ds.map(lambda x, y:y)))\n",
    "\n",
    "print(classification_report(ext_labels, ext_predictions, target_names=class_names))"
   ]
  },
  {
   "cell_type": "code",
   "execution_count": null,
   "id": "8804fde7",
   "metadata": {},
   "outputs": [],
   "source": [
    "ext_cm = confusion_matrix(ext_labels, ext_predictions, labels=[0,1])\n",
    "disp = ConfusionMatrixDisplay(confusion_matrix=ext_cm,display_labels=class_names)\n",
    "\n",
    "disp.plot(cmap=plt.cm.Blues)\n",
    "disp.ax_.set_title('External Dataset')"
   ]
  },
  {
   "cell_type": "code",
   "execution_count": null,
   "id": "ac8cec22",
   "metadata": {},
   "outputs": [],
   "source": [
    "# disp.figure_.savefig('figures/cm-2class-kermany-ext-test.pdf', bbox_inches = 'tight')"
   ]
  },
  {
   "cell_type": "code",
   "execution_count": null,
   "id": "95befb7a",
   "metadata": {},
   "outputs": [],
   "source": [
    "print_sens_spec_2class(ext_cm)"
   ]
  },
  {
   "cell_type": "code",
   "execution_count": null,
   "id": "9bc998b1",
   "metadata": {},
   "outputs": [],
   "source": [
    "# Examine predictions for the validation data ~ print percentages for each entry and consider effect of model\n",
    "ext_filenames = [l[-19:-5] for l in ext_ds.file_paths]"
   ]
  },
  {
   "cell_type": "code",
   "execution_count": null,
   "id": "c13fbacd",
   "metadata": {},
   "outputs": [],
   "source": [
    "df_ext = pd.DataFrame(ext_filenames, columns=['Filename'])\n",
    "df_ext['DME-Prob'] = ext_predictions_values[:,0]\n",
    "df_ext['Predicted'] = ext_predictions\n",
    "df_ext['Actual'] = ext_labels\n",
    "class_codes = {0:'Normal', 1:'DME'}\n",
    "df_ext['Predicted'] = df_ext['Predicted'].map(class_codes)\n",
    "df_ext['Actual'] = df_ext['Actual'].map(class_codes)\n",
    "df_ext['Correct'] = df_ext['Predicted'] == df_ext['Actual']"
   ]
  },
  {
   "cell_type": "code",
   "execution_count": null,
   "id": "b00e79c2",
   "metadata": {},
   "outputs": [],
   "source": [
    "pd.set_option(\"display.max_rows\", None)\n",
    "pd.options.display.float_format = '{:,.4f}'.format\n",
    "display(df_ext)"
   ]
  },
  {
   "cell_type": "code",
   "execution_count": null,
   "id": "79561a04",
   "metadata": {},
   "outputs": [],
   "source": [
    "# Compute ROC curve\n",
    "plt.figure()\n",
    "\n",
    "fpr_ext, tpr_ext, thresholds = roc_curve(ext_labels, ext_predictions_values)\n",
    "roc_auc_ext = auc(fpr_ext, tpr_ext)\n",
    "plt.plot(fpr_ext, tpr_ext, label='ROC curve (area = {0:0.2f})'.format(roc_auc_ext))\n",
    "\n",
    "plt.xlabel('False Positive Rate')\n",
    "plt.ylabel('True Positive Rate')\n",
    "plt.title('External Dataset')\n",
    "plt.legend(loc=\"lower right\")\n",
    "\n",
    "# plt.savefig('figures/ROC-2class-kermany-ext-test.pdf', bbox_inches = 'tight')\n",
    "\n",
    "plt.show()"
   ]
  },
  {
   "cell_type": "code",
   "execution_count": null,
   "id": "051b2737",
   "metadata": {},
   "outputs": [],
   "source": [
    "roc_auc_ext"
   ]
  }
 ],
 "metadata": {
  "kernelspec": {
   "display_name": "Python 3",
   "language": "python",
   "name": "python3"
  },
  "language_info": {
   "codemirror_mode": {
    "name": "ipython",
    "version": 3
   },
   "file_extension": ".py",
   "mimetype": "text/x-python",
   "name": "python",
   "nbconvert_exporter": "python",
   "pygments_lexer": "ipython3",
   "version": "3.8.13"
  }
 },
 "nbformat": 4,
 "nbformat_minor": 5
}
